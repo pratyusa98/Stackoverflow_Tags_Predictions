{
 "cells": [
  {
   "cell_type": "markdown",
   "metadata": {},
   "source": [
    "## Stackoverflow Tags Prediction\n",
    "\n",
    "<img src=\"1.png\" style=\"height:280px\">"
   ]
  },
  {
   "cell_type": "markdown",
   "metadata": {},
   "source": [
    "## 1. Real world Use-Case:\n",
    "We will be given Question info, like Title and Body, and our job is to predict the suitable tag. This is very important to get the answers quickly because the question will reach to the correct developers community."
   ]
  },
  {
   "cell_type": "markdown",
   "metadata": {},
   "source": [
    "### 2. Mapping to Machine Learning Techniques:\n",
    "In this use-case, we are trying to predict the tags for a particular question. Here we have 2(“title”, “body”) input features(x1,x2) and one or more target features (y1, y2, y3,…yn). It’s a classification problem. If we have 2 categories in target variable Y then it will be binary classification and if we have more than 2 categories then it will be multi-class classification. Our use-case is not binary or multi-class classification but it’s called Multi-label Classification problem. "
   ]
  },
  {
   "cell_type": "markdown",
   "metadata": {},
   "source": [
    "### 3. Data Collection:\n",
    "Go to the link https://data.stackexchange.com/stackoverflow/query/edit/1186275 and you will see Stackoverflow site where you can query the data that you want. In the right-side pan you can see the Database Schema (Table name (“Posts” and it’s attributes).\n",
    "\n",
    "#### Query: SELECT TOP 5000 Id, Title, Body , Tags from Posts WHERE Title IS NOT NULL AND Body IS NOT NULL ORDER BY RAND()\n",
    "\n",
    "- Once you get the result you can download the result as a .CSV file."
   ]
  },
  {
   "cell_type": "markdown",
   "metadata": {},
   "source": [
    "### a. Load The Dataset And Import Libraries"
   ]
  },
  {
   "cell_type": "code",
   "execution_count": 1,
   "metadata": {},
   "outputs": [],
   "source": [
    "import pandas as pd\n",
    "import numpy as np\n",
    "import matplotlib.pyplot as plt\n",
    "import seaborn as sns\n",
    "\n",
    "import warnings\n",
    "warnings.simplefilter('ignore')"
   ]
  },
  {
   "cell_type": "code",
   "execution_count": 2,
   "metadata": {},
   "outputs": [
    {
     "data": {
      "text/html": [
       "<div>\n",
       "<style scoped>\n",
       "    .dataframe tbody tr th:only-of-type {\n",
       "        vertical-align: middle;\n",
       "    }\n",
       "\n",
       "    .dataframe tbody tr th {\n",
       "        vertical-align: top;\n",
       "    }\n",
       "\n",
       "    .dataframe thead th {\n",
       "        text-align: right;\n",
       "    }\n",
       "</style>\n",
       "<table border=\"1\" class=\"dataframe\">\n",
       "  <thead>\n",
       "    <tr style=\"text-align: right;\">\n",
       "      <th></th>\n",
       "      <th>Id</th>\n",
       "      <th>Title</th>\n",
       "      <th>Body</th>\n",
       "      <th>Tags</th>\n",
       "    </tr>\n",
       "  </thead>\n",
       "  <tbody>\n",
       "    <tr>\n",
       "      <th>0</th>\n",
       "      <td>51783673</td>\n",
       "      <td>Lock file for application</td>\n",
       "      <td>&lt;p&gt;I working on a service. This service will r...</td>\n",
       "      <td>&lt;c#&gt;&lt;file&gt;&lt;locking&gt;</td>\n",
       "    </tr>\n",
       "    <tr>\n",
       "      <th>1</th>\n",
       "      <td>51783676</td>\n",
       "      <td>C++ Console : Parsing METAR data</td>\n",
       "      <td>&lt;p&gt;I am working on my first web app (weather v...</td>\n",
       "      <td>&lt;c++&gt;&lt;console&gt;&lt;dev-c++&gt;</td>\n",
       "    </tr>\n",
       "    <tr>\n",
       "      <th>2</th>\n",
       "      <td>51783677</td>\n",
       "      <td>How to connect WIX template with 3rd party RES...</td>\n",
       "      <td>&lt;p&gt;I created a simple web site using WIX platf...</td>\n",
       "      <td>&lt;node.js&gt;&lt;html&gt;&lt;velo&gt;</td>\n",
       "    </tr>\n",
       "    <tr>\n",
       "      <th>3</th>\n",
       "      <td>51783681</td>\n",
       "      <td>Need Help implementing FileNameFilter java</td>\n",
       "      <td>&lt;p&gt;I want to create an application which will ...</td>\n",
       "      <td>&lt;java&gt;&lt;swing&gt;&lt;tree&gt;&lt;jtree&gt;</td>\n",
       "    </tr>\n",
       "    <tr>\n",
       "      <th>4</th>\n",
       "      <td>51783689</td>\n",
       "      <td>C # Excel Interop - adding the function / modu...</td>\n",
       "      <td>&lt;p&gt;I need to add a some functionality to new w...</td>\n",
       "      <td>&lt;c#&gt;&lt;vba&gt;&lt;excel-interop&gt;&lt;worksheet&gt;</td>\n",
       "    </tr>\n",
       "  </tbody>\n",
       "</table>\n",
       "</div>"
      ],
      "text/plain": [
       "         Id                                              Title  \\\n",
       "0  51783673                          Lock file for application   \n",
       "1  51783676                   C++ Console : Parsing METAR data   \n",
       "2  51783677  How to connect WIX template with 3rd party RES...   \n",
       "3  51783681         Need Help implementing FileNameFilter java   \n",
       "4  51783689  C # Excel Interop - adding the function / modu...   \n",
       "\n",
       "                                                Body  \\\n",
       "0  <p>I working on a service. This service will r...   \n",
       "1  <p>I am working on my first web app (weather v...   \n",
       "2  <p>I created a simple web site using WIX platf...   \n",
       "3  <p>I want to create an application which will ...   \n",
       "4  <p>I need to add a some functionality to new w...   \n",
       "\n",
       "                                  Tags  \n",
       "0                  <c#><file><locking>  \n",
       "1              <c++><console><dev-c++>  \n",
       "2                <node.js><html><velo>  \n",
       "3           <java><swing><tree><jtree>  \n",
       "4  <c#><vba><excel-interop><worksheet>  "
      ]
     },
     "execution_count": 2,
     "metadata": {},
     "output_type": "execute_result"
    }
   ],
   "source": [
    "df = pd.read_csv(\"QueryResults.csv\",nrows=5000)\n",
    "df.head()"
   ]
  },
  {
   "cell_type": "code",
   "execution_count": 3,
   "metadata": {},
   "outputs": [
    {
     "data": {
      "text/plain": [
       "(5000, 4)"
      ]
     },
     "execution_count": 3,
     "metadata": {},
     "output_type": "execute_result"
    }
   ],
   "source": [
    "df.shape"
   ]
  },
  {
   "cell_type": "code",
   "execution_count": 4,
   "metadata": {},
   "outputs": [],
   "source": [
    "df = df[['Title','Body','Tags']]"
   ]
  },
  {
   "cell_type": "markdown",
   "metadata": {},
   "source": [
    "#### b. Checking for Null, Duplicates:"
   ]
  },
  {
   "cell_type": "code",
   "execution_count": 5,
   "metadata": {},
   "outputs": [
    {
     "data": {
      "text/plain": [
       "Title    0\n",
       "Body     0\n",
       "Tags     0\n",
       "dtype: int64"
      ]
     },
     "execution_count": 5,
     "metadata": {},
     "output_type": "execute_result"
    }
   ],
   "source": [
    "#check for Missing values\n",
    "df.isnull().sum()"
   ]
  },
  {
   "cell_type": "code",
   "execution_count": 6,
   "metadata": {},
   "outputs": [
    {
     "data": {
      "text/plain": [
       "False"
      ]
     },
     "execution_count": 6,
     "metadata": {},
     "output_type": "execute_result"
    }
   ],
   "source": [
    "df.duplicated().any()"
   ]
  },
  {
   "cell_type": "code",
   "execution_count": 7,
   "metadata": {},
   "outputs": [
    {
     "data": {
      "text/plain": [
       "(5000, 3)"
      ]
     },
     "execution_count": 7,
     "metadata": {},
     "output_type": "execute_result"
    }
   ],
   "source": [
    "df.shape"
   ]
  },
  {
   "cell_type": "markdown",
   "metadata": {},
   "source": [
    "### Text Preprocessing : We have some html tags, special characters in Title, Body, Tags. We need to be careful as there will tag “.net”, “C#” we need to do separate text cleaning for Tags."
   ]
  },
  {
   "cell_type": "code",
   "execution_count": 8,
   "metadata": {},
   "outputs": [],
   "source": [
    "from bs4 import BeautifulSoup\n",
    "import re\n",
    "def strip_html_tags(text):\n",
    "    \"\"\"remove html tags from text\"\"\"\n",
    "    soup = BeautifulSoup(text, \"html.parser\")\n",
    "    stripped_text = soup.get_text(separator=\" \")\n",
    "    #Remove non-alphanumeric and except \"#\", \".\" for c# and .net keywords\n",
    "    stripped_text = re.sub(r'[^A-Za-z0-9#+.\\-]+',' ',stripped_text)\n",
    "    return stripped_text\n",
    "\n",
    "def Tags_cleaning(text):\n",
    "  text = text.replace('><',\" \")\n",
    "  text = text.replace('<', \"\")\n",
    "  text = text.replace('>', \"\")\n",
    "  return text"
   ]
  },
  {
   "cell_type": "code",
   "execution_count": 9,
   "metadata": {},
   "outputs": [
    {
     "data": {
      "text/html": [
       "<div>\n",
       "<style scoped>\n",
       "    .dataframe tbody tr th:only-of-type {\n",
       "        vertical-align: middle;\n",
       "    }\n",
       "\n",
       "    .dataframe tbody tr th {\n",
       "        vertical-align: top;\n",
       "    }\n",
       "\n",
       "    .dataframe thead th {\n",
       "        text-align: right;\n",
       "    }\n",
       "</style>\n",
       "<table border=\"1\" class=\"dataframe\">\n",
       "  <thead>\n",
       "    <tr style=\"text-align: right;\">\n",
       "      <th></th>\n",
       "      <th>Title</th>\n",
       "      <th>Body</th>\n",
       "      <th>Tags</th>\n",
       "    </tr>\n",
       "  </thead>\n",
       "  <tbody>\n",
       "    <tr>\n",
       "      <th>0</th>\n",
       "      <td>Lock file for application</td>\n",
       "      <td>I working on a service. This service will run ...</td>\n",
       "      <td>c# file locking</td>\n",
       "    </tr>\n",
       "    <tr>\n",
       "      <th>1</th>\n",
       "      <td>C++ Console Parsing METAR data</td>\n",
       "      <td>I am working on my first web app weather visua...</td>\n",
       "      <td>c++ console dev-c++</td>\n",
       "    </tr>\n",
       "    <tr>\n",
       "      <th>2</th>\n",
       "      <td>How to connect WIX template with 3rd party RES...</td>\n",
       "      <td>I created a simple web site using WIX platform...</td>\n",
       "      <td>node.js html velo</td>\n",
       "    </tr>\n",
       "    <tr>\n",
       "      <th>3</th>\n",
       "      <td>Need Help implementing FileNameFilter java</td>\n",
       "      <td>I want to create an application which will sho...</td>\n",
       "      <td>java swing tree jtree</td>\n",
       "    </tr>\n",
       "    <tr>\n",
       "      <th>4</th>\n",
       "      <td>C # Excel Interop - adding the function module...</td>\n",
       "      <td>I need to add a some functionality to new work...</td>\n",
       "      <td>c# vba excel-interop worksheet</td>\n",
       "    </tr>\n",
       "  </tbody>\n",
       "</table>\n",
       "</div>"
      ],
      "text/plain": [
       "                                               Title  \\\n",
       "0                          Lock file for application   \n",
       "1                     C++ Console Parsing METAR data   \n",
       "2  How to connect WIX template with 3rd party RES...   \n",
       "3         Need Help implementing FileNameFilter java   \n",
       "4  C # Excel Interop - adding the function module...   \n",
       "\n",
       "                                                Body  \\\n",
       "0  I working on a service. This service will run ...   \n",
       "1  I am working on my first web app weather visua...   \n",
       "2  I created a simple web site using WIX platform...   \n",
       "3  I want to create an application which will sho...   \n",
       "4  I need to add a some functionality to new work...   \n",
       "\n",
       "                             Tags  \n",
       "0                 c# file locking  \n",
       "1             c++ console dev-c++  \n",
       "2               node.js html velo  \n",
       "3           java swing tree jtree  \n",
       "4  c# vba excel-interop worksheet  "
      ]
     },
     "execution_count": 9,
     "metadata": {},
     "output_type": "execute_result"
    }
   ],
   "source": [
    "df['Title'] = df['Title'].apply(lambda text: strip_html_tags(text))\n",
    "df['Body'] = df['Body'].apply(lambda text: strip_html_tags(text))\n",
    "df['Tags'] = df['Tags'].apply(lambda text: Tags_cleaning(text))\n",
    "df.head()"
   ]
  },
  {
   "cell_type": "code",
   "execution_count": 10,
   "metadata": {},
   "outputs": [],
   "source": [
    "from sklearn.feature_extraction.text import CountVectorizer\n",
    "from sklearn.feature_extraction.text import TfidfVectorizer\n",
    "\n",
    "vectorizer = CountVectorizer(tokenizer = lambda x: x.split())\n",
    "tag_dtm = vectorizer.fit_transform(df['Tags']).toarray()\n",
    "tags = vectorizer.get_feature_names()"
   ]
  },
  {
   "cell_type": "code",
   "execution_count": 11,
   "metadata": {},
   "outputs": [
    {
     "data": {
      "text/plain": [
       "['.htaccess',\n",
       " '.net',\n",
       " '.net-2.0',\n",
       " '.net-3.5',\n",
       " '.net-4.5',\n",
       " '.net-assembly',\n",
       " '.net-core',\n",
       " '.net-standard-2.0',\n",
       " '.nettiers',\n",
       " '32-bit']"
      ]
     },
     "execution_count": 11,
     "metadata": {},
     "output_type": "execute_result"
    }
   ],
   "source": [
    "tags[:10]"
   ]
  },
  {
   "cell_type": "code",
   "execution_count": 12,
   "metadata": {},
   "outputs": [
    {
     "name": "stdout",
     "output_type": "stream",
     "text": [
      "(5000, 3956)\n",
      "No.of Unique tags :  3956\n"
     ]
    }
   ],
   "source": [
    "print(tag_dtm.shape)\n",
    "print(\"No.of Unique tags : \",len(tags))"
   ]
  },
  {
   "cell_type": "code",
   "execution_count": 13,
   "metadata": {},
   "outputs": [
    {
     "data": {
      "text/html": [
       "<div>\n",
       "<style scoped>\n",
       "    .dataframe tbody tr th:only-of-type {\n",
       "        vertical-align: middle;\n",
       "    }\n",
       "\n",
       "    .dataframe tbody tr th {\n",
       "        vertical-align: top;\n",
       "    }\n",
       "\n",
       "    .dataframe thead th {\n",
       "        text-align: right;\n",
       "    }\n",
       "</style>\n",
       "<table border=\"1\" class=\"dataframe\">\n",
       "  <thead>\n",
       "    <tr style=\"text-align: right;\">\n",
       "      <th></th>\n",
       "      <th>.htaccess</th>\n",
       "      <th>.net</th>\n",
       "      <th>.net-2.0</th>\n",
       "      <th>.net-3.5</th>\n",
       "      <th>.net-4.5</th>\n",
       "      <th>.net-assembly</th>\n",
       "      <th>.net-core</th>\n",
       "      <th>.net-standard-2.0</th>\n",
       "      <th>.nettiers</th>\n",
       "      <th>32-bit</th>\n",
       "      <th>...</th>\n",
       "      <th>zend-view</th>\n",
       "      <th>zeroconf</th>\n",
       "      <th>zigbee</th>\n",
       "      <th>zip</th>\n",
       "      <th>zipfile</th>\n",
       "      <th>zipkin</th>\n",
       "      <th>zlib</th>\n",
       "      <th>zooming</th>\n",
       "      <th>zurb-foundation</th>\n",
       "      <th>zxing</th>\n",
       "    </tr>\n",
       "  </thead>\n",
       "  <tbody>\n",
       "    <tr>\n",
       "      <th>0</th>\n",
       "      <td>0</td>\n",
       "      <td>0</td>\n",
       "      <td>0</td>\n",
       "      <td>0</td>\n",
       "      <td>0</td>\n",
       "      <td>0</td>\n",
       "      <td>0</td>\n",
       "      <td>0</td>\n",
       "      <td>0</td>\n",
       "      <td>0</td>\n",
       "      <td>...</td>\n",
       "      <td>0</td>\n",
       "      <td>0</td>\n",
       "      <td>0</td>\n",
       "      <td>0</td>\n",
       "      <td>0</td>\n",
       "      <td>0</td>\n",
       "      <td>0</td>\n",
       "      <td>0</td>\n",
       "      <td>0</td>\n",
       "      <td>0</td>\n",
       "    </tr>\n",
       "    <tr>\n",
       "      <th>1</th>\n",
       "      <td>0</td>\n",
       "      <td>0</td>\n",
       "      <td>0</td>\n",
       "      <td>0</td>\n",
       "      <td>0</td>\n",
       "      <td>0</td>\n",
       "      <td>0</td>\n",
       "      <td>0</td>\n",
       "      <td>0</td>\n",
       "      <td>0</td>\n",
       "      <td>...</td>\n",
       "      <td>0</td>\n",
       "      <td>0</td>\n",
       "      <td>0</td>\n",
       "      <td>0</td>\n",
       "      <td>0</td>\n",
       "      <td>0</td>\n",
       "      <td>0</td>\n",
       "      <td>0</td>\n",
       "      <td>0</td>\n",
       "      <td>0</td>\n",
       "    </tr>\n",
       "    <tr>\n",
       "      <th>2</th>\n",
       "      <td>0</td>\n",
       "      <td>0</td>\n",
       "      <td>0</td>\n",
       "      <td>0</td>\n",
       "      <td>0</td>\n",
       "      <td>0</td>\n",
       "      <td>0</td>\n",
       "      <td>0</td>\n",
       "      <td>0</td>\n",
       "      <td>0</td>\n",
       "      <td>...</td>\n",
       "      <td>0</td>\n",
       "      <td>0</td>\n",
       "      <td>0</td>\n",
       "      <td>0</td>\n",
       "      <td>0</td>\n",
       "      <td>0</td>\n",
       "      <td>0</td>\n",
       "      <td>0</td>\n",
       "      <td>0</td>\n",
       "      <td>0</td>\n",
       "    </tr>\n",
       "    <tr>\n",
       "      <th>3</th>\n",
       "      <td>0</td>\n",
       "      <td>0</td>\n",
       "      <td>0</td>\n",
       "      <td>0</td>\n",
       "      <td>0</td>\n",
       "      <td>0</td>\n",
       "      <td>0</td>\n",
       "      <td>0</td>\n",
       "      <td>0</td>\n",
       "      <td>0</td>\n",
       "      <td>...</td>\n",
       "      <td>0</td>\n",
       "      <td>0</td>\n",
       "      <td>0</td>\n",
       "      <td>0</td>\n",
       "      <td>0</td>\n",
       "      <td>0</td>\n",
       "      <td>0</td>\n",
       "      <td>0</td>\n",
       "      <td>0</td>\n",
       "      <td>0</td>\n",
       "    </tr>\n",
       "    <tr>\n",
       "      <th>4</th>\n",
       "      <td>0</td>\n",
       "      <td>0</td>\n",
       "      <td>0</td>\n",
       "      <td>0</td>\n",
       "      <td>0</td>\n",
       "      <td>0</td>\n",
       "      <td>0</td>\n",
       "      <td>0</td>\n",
       "      <td>0</td>\n",
       "      <td>0</td>\n",
       "      <td>...</td>\n",
       "      <td>0</td>\n",
       "      <td>0</td>\n",
       "      <td>0</td>\n",
       "      <td>0</td>\n",
       "      <td>0</td>\n",
       "      <td>0</td>\n",
       "      <td>0</td>\n",
       "      <td>0</td>\n",
       "      <td>0</td>\n",
       "      <td>0</td>\n",
       "    </tr>\n",
       "    <tr>\n",
       "      <th>5</th>\n",
       "      <td>0</td>\n",
       "      <td>0</td>\n",
       "      <td>0</td>\n",
       "      <td>0</td>\n",
       "      <td>0</td>\n",
       "      <td>0</td>\n",
       "      <td>0</td>\n",
       "      <td>0</td>\n",
       "      <td>0</td>\n",
       "      <td>0</td>\n",
       "      <td>...</td>\n",
       "      <td>0</td>\n",
       "      <td>0</td>\n",
       "      <td>0</td>\n",
       "      <td>0</td>\n",
       "      <td>0</td>\n",
       "      <td>0</td>\n",
       "      <td>0</td>\n",
       "      <td>0</td>\n",
       "      <td>0</td>\n",
       "      <td>0</td>\n",
       "    </tr>\n",
       "    <tr>\n",
       "      <th>6</th>\n",
       "      <td>0</td>\n",
       "      <td>0</td>\n",
       "      <td>0</td>\n",
       "      <td>0</td>\n",
       "      <td>0</td>\n",
       "      <td>0</td>\n",
       "      <td>0</td>\n",
       "      <td>0</td>\n",
       "      <td>0</td>\n",
       "      <td>0</td>\n",
       "      <td>...</td>\n",
       "      <td>0</td>\n",
       "      <td>0</td>\n",
       "      <td>0</td>\n",
       "      <td>0</td>\n",
       "      <td>0</td>\n",
       "      <td>0</td>\n",
       "      <td>0</td>\n",
       "      <td>0</td>\n",
       "      <td>0</td>\n",
       "      <td>0</td>\n",
       "    </tr>\n",
       "    <tr>\n",
       "      <th>7</th>\n",
       "      <td>0</td>\n",
       "      <td>0</td>\n",
       "      <td>0</td>\n",
       "      <td>0</td>\n",
       "      <td>0</td>\n",
       "      <td>0</td>\n",
       "      <td>0</td>\n",
       "      <td>0</td>\n",
       "      <td>0</td>\n",
       "      <td>0</td>\n",
       "      <td>...</td>\n",
       "      <td>0</td>\n",
       "      <td>0</td>\n",
       "      <td>0</td>\n",
       "      <td>0</td>\n",
       "      <td>0</td>\n",
       "      <td>0</td>\n",
       "      <td>0</td>\n",
       "      <td>0</td>\n",
       "      <td>0</td>\n",
       "      <td>0</td>\n",
       "    </tr>\n",
       "    <tr>\n",
       "      <th>8</th>\n",
       "      <td>0</td>\n",
       "      <td>0</td>\n",
       "      <td>0</td>\n",
       "      <td>0</td>\n",
       "      <td>0</td>\n",
       "      <td>0</td>\n",
       "      <td>0</td>\n",
       "      <td>0</td>\n",
       "      <td>0</td>\n",
       "      <td>0</td>\n",
       "      <td>...</td>\n",
       "      <td>0</td>\n",
       "      <td>0</td>\n",
       "      <td>0</td>\n",
       "      <td>0</td>\n",
       "      <td>0</td>\n",
       "      <td>0</td>\n",
       "      <td>0</td>\n",
       "      <td>0</td>\n",
       "      <td>0</td>\n",
       "      <td>0</td>\n",
       "    </tr>\n",
       "    <tr>\n",
       "      <th>9</th>\n",
       "      <td>0</td>\n",
       "      <td>0</td>\n",
       "      <td>0</td>\n",
       "      <td>0</td>\n",
       "      <td>0</td>\n",
       "      <td>0</td>\n",
       "      <td>0</td>\n",
       "      <td>0</td>\n",
       "      <td>0</td>\n",
       "      <td>0</td>\n",
       "      <td>...</td>\n",
       "      <td>0</td>\n",
       "      <td>0</td>\n",
       "      <td>0</td>\n",
       "      <td>0</td>\n",
       "      <td>0</td>\n",
       "      <td>0</td>\n",
       "      <td>0</td>\n",
       "      <td>0</td>\n",
       "      <td>0</td>\n",
       "      <td>0</td>\n",
       "    </tr>\n",
       "  </tbody>\n",
       "</table>\n",
       "<p>10 rows × 3956 columns</p>\n",
       "</div>"
      ],
      "text/plain": [
       "   .htaccess  .net  .net-2.0  .net-3.5  .net-4.5  .net-assembly  .net-core  \\\n",
       "0          0     0         0         0         0              0          0   \n",
       "1          0     0         0         0         0              0          0   \n",
       "2          0     0         0         0         0              0          0   \n",
       "3          0     0         0         0         0              0          0   \n",
       "4          0     0         0         0         0              0          0   \n",
       "5          0     0         0         0         0              0          0   \n",
       "6          0     0         0         0         0              0          0   \n",
       "7          0     0         0         0         0              0          0   \n",
       "8          0     0         0         0         0              0          0   \n",
       "9          0     0         0         0         0              0          0   \n",
       "\n",
       "   .net-standard-2.0  .nettiers  32-bit  ...  zend-view  zeroconf  zigbee  \\\n",
       "0                  0          0       0  ...          0         0       0   \n",
       "1                  0          0       0  ...          0         0       0   \n",
       "2                  0          0       0  ...          0         0       0   \n",
       "3                  0          0       0  ...          0         0       0   \n",
       "4                  0          0       0  ...          0         0       0   \n",
       "5                  0          0       0  ...          0         0       0   \n",
       "6                  0          0       0  ...          0         0       0   \n",
       "7                  0          0       0  ...          0         0       0   \n",
       "8                  0          0       0  ...          0         0       0   \n",
       "9                  0          0       0  ...          0         0       0   \n",
       "\n",
       "   zip  zipfile  zipkin  zlib  zooming  zurb-foundation  zxing  \n",
       "0    0        0       0     0        0                0      0  \n",
       "1    0        0       0     0        0                0      0  \n",
       "2    0        0       0     0        0                0      0  \n",
       "3    0        0       0     0        0                0      0  \n",
       "4    0        0       0     0        0                0      0  \n",
       "5    0        0       0     0        0                0      0  \n",
       "6    0        0       0     0        0                0      0  \n",
       "7    0        0       0     0        0                0      0  \n",
       "8    0        0       0     0        0                0      0  \n",
       "9    0        0       0     0        0                0      0  \n",
       "\n",
       "[10 rows x 3956 columns]"
      ]
     },
     "execution_count": 13,
     "metadata": {},
     "output_type": "execute_result"
    }
   ],
   "source": [
    "tags = pd.DataFrame(tag_dtm,columns =vectorizer.get_feature_names())\n",
    "tags.head(10)"
   ]
  },
  {
   "cell_type": "code",
   "execution_count": 14,
   "metadata": {},
   "outputs": [
    {
     "data": {
      "text/html": [
       "<div>\n",
       "<style scoped>\n",
       "    .dataframe tbody tr th:only-of-type {\n",
       "        vertical-align: middle;\n",
       "    }\n",
       "\n",
       "    .dataframe tbody tr th {\n",
       "        vertical-align: top;\n",
       "    }\n",
       "\n",
       "    .dataframe thead th {\n",
       "        text-align: right;\n",
       "    }\n",
       "</style>\n",
       "<table border=\"1\" class=\"dataframe\">\n",
       "  <thead>\n",
       "    <tr style=\"text-align: right;\">\n",
       "      <th></th>\n",
       "      <th>Tag</th>\n",
       "      <th>Count</th>\n",
       "    </tr>\n",
       "  </thead>\n",
       "  <tbody>\n",
       "    <tr>\n",
       "      <th>0</th>\n",
       "      <td>.htaccess</td>\n",
       "      <td>11</td>\n",
       "    </tr>\n",
       "    <tr>\n",
       "      <th>1</th>\n",
       "      <td>.net</td>\n",
       "      <td>123</td>\n",
       "    </tr>\n",
       "    <tr>\n",
       "      <th>2</th>\n",
       "      <td>.net-2.0</td>\n",
       "      <td>3</td>\n",
       "    </tr>\n",
       "    <tr>\n",
       "      <th>3</th>\n",
       "      <td>.net-3.5</td>\n",
       "      <td>8</td>\n",
       "    </tr>\n",
       "    <tr>\n",
       "      <th>4</th>\n",
       "      <td>.net-4.5</td>\n",
       "      <td>3</td>\n",
       "    </tr>\n",
       "  </tbody>\n",
       "</table>\n",
       "</div>"
      ],
      "text/plain": [
       "         Tag  Count\n",
       "0  .htaccess     11\n",
       "1       .net    123\n",
       "2   .net-2.0      3\n",
       "3   .net-3.5      8\n",
       "4   .net-4.5      3"
      ]
     },
     "execution_count": 14,
     "metadata": {},
     "output_type": "execute_result"
    }
   ],
   "source": [
    "freqs = tag_dtm.sum(axis=0)\n",
    "result = dict(zip(tags, freqs))\n",
    "result = pd.DataFrame(list(result.items()),columns=['Tag','Count'])\n",
    "result.head()"
   ]
  },
  {
   "cell_type": "code",
   "execution_count": 15,
   "metadata": {},
   "outputs": [],
   "source": [
    "tag_df_sorted = result.sort_values(['Count'], ascending=False)\n",
    "#tag_counts = tag_df_sorted['Count'].values"
   ]
  },
  {
   "cell_type": "code",
   "execution_count": 16,
   "metadata": {
    "scrolled": true
   },
   "outputs": [
    {
     "data": {
      "text/html": [
       "<div>\n",
       "<style scoped>\n",
       "    .dataframe tbody tr th:only-of-type {\n",
       "        vertical-align: middle;\n",
       "    }\n",
       "\n",
       "    .dataframe tbody tr th {\n",
       "        vertical-align: top;\n",
       "    }\n",
       "\n",
       "    .dataframe thead th {\n",
       "        text-align: right;\n",
       "    }\n",
       "</style>\n",
       "<table border=\"1\" class=\"dataframe\">\n",
       "  <thead>\n",
       "    <tr style=\"text-align: right;\">\n",
       "      <th></th>\n",
       "      <th>Tag</th>\n",
       "      <th>Count</th>\n",
       "    </tr>\n",
       "  </thead>\n",
       "  <tbody>\n",
       "    <tr>\n",
       "      <th>1723</th>\n",
       "      <td>javascript</td>\n",
       "      <td>512</td>\n",
       "    </tr>\n",
       "    <tr>\n",
       "      <th>1706</th>\n",
       "      <td>java</td>\n",
       "      <td>435</td>\n",
       "    </tr>\n",
       "    <tr>\n",
       "      <th>517</th>\n",
       "      <td>c#</td>\n",
       "      <td>397</td>\n",
       "    </tr>\n",
       "    <tr>\n",
       "      <th>2707</th>\n",
       "      <td>python</td>\n",
       "      <td>344</td>\n",
       "    </tr>\n",
       "    <tr>\n",
       "      <th>2537</th>\n",
       "      <td>php</td>\n",
       "      <td>336</td>\n",
       "    </tr>\n",
       "    <tr>\n",
       "      <th>106</th>\n",
       "      <td>android</td>\n",
       "      <td>289</td>\n",
       "    </tr>\n",
       "    <tr>\n",
       "      <th>1781</th>\n",
       "      <td>jquery</td>\n",
       "      <td>252</td>\n",
       "    </tr>\n",
       "    <tr>\n",
       "      <th>1514</th>\n",
       "      <td>html</td>\n",
       "      <td>248</td>\n",
       "    </tr>\n",
       "    <tr>\n",
       "      <th>520</th>\n",
       "      <td>c++</td>\n",
       "      <td>179</td>\n",
       "    </tr>\n",
       "    <tr>\n",
       "      <th>784</th>\n",
       "      <td>css</td>\n",
       "      <td>173</td>\n",
       "    </tr>\n",
       "    <tr>\n",
       "      <th>1659</th>\n",
       "      <td>ios</td>\n",
       "      <td>157</td>\n",
       "    </tr>\n",
       "    <tr>\n",
       "      <th>2243</th>\n",
       "      <td>mysql</td>\n",
       "      <td>147</td>\n",
       "    </tr>\n",
       "    <tr>\n",
       "      <th>3205</th>\n",
       "      <td>sql</td>\n",
       "      <td>146</td>\n",
       "    </tr>\n",
       "    <tr>\n",
       "      <th>1</th>\n",
       "      <td>.net</td>\n",
       "      <td>123</td>\n",
       "    </tr>\n",
       "    <tr>\n",
       "      <th>281</th>\n",
       "      <td>asp.net</td>\n",
       "      <td>95</td>\n",
       "    </tr>\n",
       "    <tr>\n",
       "      <th>2935</th>\n",
       "      <td>ruby-on-rails</td>\n",
       "      <td>90</td>\n",
       "    </tr>\n",
       "    <tr>\n",
       "      <th>3208</th>\n",
       "      <td>sql-server</td>\n",
       "      <td>86</td>\n",
       "    </tr>\n",
       "    <tr>\n",
       "      <th>275</th>\n",
       "      <td>arrays</td>\n",
       "      <td>86</td>\n",
       "    </tr>\n",
       "    <tr>\n",
       "      <th>2304</th>\n",
       "      <td>node.js</td>\n",
       "      <td>82</td>\n",
       "    </tr>\n",
       "    <tr>\n",
       "      <th>2934</th>\n",
       "      <td>ruby</td>\n",
       "      <td>82</td>\n",
       "    </tr>\n",
       "  </tbody>\n",
       "</table>\n",
       "</div>"
      ],
      "text/plain": [
       "                Tag  Count\n",
       "1723     javascript    512\n",
       "1706           java    435\n",
       "517              c#    397\n",
       "2707         python    344\n",
       "2537            php    336\n",
       "106         android    289\n",
       "1781         jquery    252\n",
       "1514           html    248\n",
       "520             c++    179\n",
       "784             css    173\n",
       "1659            ios    157\n",
       "2243          mysql    147\n",
       "3205            sql    146\n",
       "1              .net    123\n",
       "281         asp.net     95\n",
       "2935  ruby-on-rails     90\n",
       "3208     sql-server     86\n",
       "275          arrays     86\n",
       "2304        node.js     82\n",
       "2934           ruby     82"
      ]
     },
     "execution_count": 16,
     "metadata": {},
     "output_type": "execute_result"
    }
   ],
   "source": [
    "tag_df_sorted.head(20)"
   ]
  },
  {
   "cell_type": "code",
   "execution_count": 17,
   "metadata": {},
   "outputs": [],
   "source": [
    "# binary='true' will give a binary vectorizer\n",
    "vectorizer = CountVectorizer(tokenizer = lambda x: x.split(), binary=True)\n",
    "multilabel_y = vectorizer.fit_transform(df['Tags'])"
   ]
  },
  {
   "cell_type": "code",
   "execution_count": 18,
   "metadata": {},
   "outputs": [
    {
     "name": "stdout",
     "output_type": "stream",
     "text": [
      "3956\n"
     ]
    }
   ],
   "source": [
    "y_list = vectorizer.get_feature_names()\n",
    "print(len(y_list))"
   ]
  },
  {
   "cell_type": "code",
   "execution_count": 19,
   "metadata": {},
   "outputs": [
    {
     "name": "stdout",
     "output_type": "stream",
     "text": [
      "x_train (4000, 2)\n",
      "x_test (1000, 2)\n",
      "y_train (4000, 3956)\n",
      "y_test (1000, 3956)\n"
     ]
    }
   ],
   "source": [
    "#print(multilabel_y[0:12].toarray())\n",
    "total_size=df.shape[0]\n",
    "train_size=int(0.80*total_size)\n",
    "\n",
    "x_train=df[['Title','Body']].head(train_size)\n",
    "x_test=df[['Title','Body']].tail(total_size - train_size)\n",
    "\n",
    "y_train = multilabel_y[0:train_size,:]\n",
    "y_test = multilabel_y[train_size:total_size,:]\n",
    "print(\"x_train\",x_train.shape)\n",
    "print(\"x_test\",x_test.shape)\n",
    "print(\"y_train\",y_train.shape)\n",
    "print(\"y_test\",y_test.shape)"
   ]
  },
  {
   "cell_type": "markdown",
   "metadata": {},
   "source": [
    "### It’s time to create X matrix. In x_train, x_test we have “Title” and “Body” as a separate features. Let’s combine both and create X matrix. I used TF-IDF technique to create X matrix ( alternatively we can use Countvectozer(), HashingVectorizer, etc). We will try different technique in-order to improve the accuracy of our model."
   ]
  },
  {
   "cell_type": "code",
   "execution_count": 20,
   "metadata": {},
   "outputs": [
    {
     "name": "stdout",
     "output_type": "stream",
     "text": [
      "(4000, 3)\n",
      "(1000, 3)\n"
     ]
    },
    {
     "data": {
      "text/html": [
       "<div>\n",
       "<style scoped>\n",
       "    .dataframe tbody tr th:only-of-type {\n",
       "        vertical-align: middle;\n",
       "    }\n",
       "\n",
       "    .dataframe tbody tr th {\n",
       "        vertical-align: top;\n",
       "    }\n",
       "\n",
       "    .dataframe thead th {\n",
       "        text-align: right;\n",
       "    }\n",
       "</style>\n",
       "<table border=\"1\" class=\"dataframe\">\n",
       "  <thead>\n",
       "    <tr style=\"text-align: right;\">\n",
       "      <th></th>\n",
       "      <th>Title</th>\n",
       "      <th>Body</th>\n",
       "      <th>Text</th>\n",
       "    </tr>\n",
       "  </thead>\n",
       "  <tbody>\n",
       "    <tr>\n",
       "      <th>0</th>\n",
       "      <td>Lock file for application</td>\n",
       "      <td>I working on a service. This service will run ...</td>\n",
       "      <td>Lock file for application I working on a servi...</td>\n",
       "    </tr>\n",
       "    <tr>\n",
       "      <th>1</th>\n",
       "      <td>C++ Console Parsing METAR data</td>\n",
       "      <td>I am working on my first web app weather visua...</td>\n",
       "      <td>C++ Console Parsing METAR data I am working on...</td>\n",
       "    </tr>\n",
       "    <tr>\n",
       "      <th>2</th>\n",
       "      <td>How to connect WIX template with 3rd party RES...</td>\n",
       "      <td>I created a simple web site using WIX platform...</td>\n",
       "      <td>How to connect WIX template with 3rd party RES...</td>\n",
       "    </tr>\n",
       "    <tr>\n",
       "      <th>3</th>\n",
       "      <td>Need Help implementing FileNameFilter java</td>\n",
       "      <td>I want to create an application which will sho...</td>\n",
       "      <td>Need Help implementing FileNameFilter java I w...</td>\n",
       "    </tr>\n",
       "    <tr>\n",
       "      <th>4</th>\n",
       "      <td>C # Excel Interop - adding the function module...</td>\n",
       "      <td>I need to add a some functionality to new work...</td>\n",
       "      <td>C # Excel Interop - adding the function module...</td>\n",
       "    </tr>\n",
       "  </tbody>\n",
       "</table>\n",
       "</div>"
      ],
      "text/plain": [
       "                                               Title  \\\n",
       "0                          Lock file for application   \n",
       "1                     C++ Console Parsing METAR data   \n",
       "2  How to connect WIX template with 3rd party RES...   \n",
       "3         Need Help implementing FileNameFilter java   \n",
       "4  C # Excel Interop - adding the function module...   \n",
       "\n",
       "                                                Body  \\\n",
       "0  I working on a service. This service will run ...   \n",
       "1  I am working on my first web app weather visua...   \n",
       "2  I created a simple web site using WIX platform...   \n",
       "3  I want to create an application which will sho...   \n",
       "4  I need to add a some functionality to new work...   \n",
       "\n",
       "                                                Text  \n",
       "0  Lock file for application I working on a servi...  \n",
       "1  C++ Console Parsing METAR data I am working on...  \n",
       "2  How to connect WIX template with 3rd party RES...  \n",
       "3  Need Help implementing FileNameFilter java I w...  \n",
       "4  C # Excel Interop - adding the function module...  "
      ]
     },
     "execution_count": 20,
     "metadata": {},
     "output_type": "execute_result"
    }
   ],
   "source": [
    "\n",
    "x_train['Text']= x_train['Title'] + \" \" + x_train['Body']\n",
    "x_test['Text']= x_test['Title']+\" \"+ x_test['Body']\n",
    "print(x_train.shape)\n",
    "print(x_test.shape)\n",
    "x_train.head()"
   ]
  },
  {
   "cell_type": "markdown",
   "metadata": {},
   "source": [
    "#### Text is the combination Of Title and Body , And we train the model By this Text Data Only"
   ]
  },
  {
   "cell_type": "code",
   "execution_count": 21,
   "metadata": {},
   "outputs": [
    {
     "name": "stdout",
     "output_type": "stream",
     "text": [
      "(4000,)\n",
      "(1000,)\n"
     ]
    }
   ],
   "source": [
    "x_train = x_train['Text']\n",
    "x_test = x_test['Text']\n",
    "print(x_train.shape)\n",
    "print(x_test.shape)"
   ]
  },
  {
   "cell_type": "code",
   "execution_count": 22,
   "metadata": {},
   "outputs": [],
   "source": [
    "vectorizer = TfidfVectorizer(analyzer='word', max_features=1000, ngram_range=(1,3), stop_words='english')\n",
    "x_train_multilabel = vectorizer.fit_transform(x_train)\n",
    "x_test_multilabel = vectorizer.transform(x_test)"
   ]
  },
  {
   "cell_type": "code",
   "execution_count": 23,
   "metadata": {},
   "outputs": [
    {
     "name": "stdout",
     "output_type": "stream",
     "text": [
      "x_train (4000, 1000)\n",
      "x_test (1000, 1000)\n",
      "y_train (4000, 3956)\n",
      "y_test (1000, 3956)\n"
     ]
    }
   ],
   "source": [
    "print(\"x_train\",x_train_multilabel.shape)\n",
    "print(\"x_test\",x_test_multilabel.shape)\n",
    "print(\"y_train\",y_train.shape)\n",
    "print(\"y_test\",y_test.shape)"
   ]
  },
  {
   "cell_type": "code",
   "execution_count": 24,
   "metadata": {},
   "outputs": [],
   "source": [
    "import pickle\n",
    "with open(\"vectorizer1.pkl\",\"wb\") as f:\n",
    "   pickle.dump(vectorizer,f)"
   ]
  },
  {
   "cell_type": "markdown",
   "metadata": {},
   "source": [
    "### Model Build"
   ]
  },
  {
   "cell_type": "code",
   "execution_count": 25,
   "metadata": {},
   "outputs": [],
   "source": [
    "from sklearn.multiclass import OneVsRestClassifier\n",
    "from sklearn.linear_model import SGDClassifier\n",
    "from sklearn import metrics\n",
    "from sklearn.metrics import f1_score,precision_score,recall_score\n",
    "from sklearn import svm\n",
    "from sklearn.linear_model import LogisticRegression\n",
    "from sklearn.naive_bayes import GaussianNB"
   ]
  },
  {
   "cell_type": "code",
   "execution_count": 26,
   "metadata": {
    "scrolled": true
   },
   "outputs": [],
   "source": [
    "from sklearn.svm import LinearSVC\n",
    "clf = OneVsRestClassifier(LinearSVC(C=1.5, penalty = 'l1', dual=False))\n",
    "clf.fit(x_train_multilabel, y_train)\n",
    "predictions = clf.predict(x_test_multilabel)"
   ]
  },
  {
   "cell_type": "code",
   "execution_count": 27,
   "metadata": {},
   "outputs": [
    {
     "name": "stdout",
     "output_type": "stream",
     "text": [
      "accuracy : 0.034\n",
      "macro f1 score : 0.008854759944227368\n",
      "micro f1 scoore : 0.261661606403533\n",
      "hamming loss : 0.0006761880687563195\n"
     ]
    }
   ],
   "source": [
    "print(\"accuracy :\",metrics.accuracy_score(y_test,predictions))\n",
    "print(\"macro f1 score :\",metrics.f1_score(y_test, predictions, average = 'macro'))\n",
    "print(\"micro f1 scoore :\",metrics.f1_score(y_test, predictions, average = 'micro'))\n",
    "print(\"hamming loss :\",metrics.hamming_loss(y_test,predictions))"
   ]
  },
  {
   "cell_type": "code",
   "execution_count": 28,
   "metadata": {},
   "outputs": [],
   "source": [
    "import pickle\n",
    "with open(\"tag_predictor_model.pkl\",\"wb\") as f:\n",
    "   pickle.dump(clf,f)"
   ]
  },
  {
   "cell_type": "code",
   "execution_count": 31,
   "metadata": {},
   "outputs": [],
   "source": [
    "#save all tags\n",
    "import csv\n",
    "all_Tags['Tags'] = pd.DataFrame(y_list)\n",
    "all_Tags.to_csv(\"All_tags.csv\")"
   ]
  },
  {
   "cell_type": "markdown",
   "metadata": {},
   "source": [
    "### Model testing"
   ]
  },
  {
   "cell_type": "code",
   "execution_count": 34,
   "metadata": {},
   "outputs": [],
   "source": [
    "vectorizer_saved = open(\"vectorizer.pkl\",\"r\")\n",
    "f = open(\"tag_predictor_model.pkl\",\"rb\")\n",
    "model_saved = pickle.load(f)"
   ]
  },
  {
   "cell_type": "code",
   "execution_count": 35,
   "metadata": {
    "scrolled": true
   },
   "outputs": [
    {
     "name": "stdout",
     "output_type": "stream",
     "text": [
      "0\n"
     ]
    }
   ],
   "source": [
    "user_input = [\"Facing problem with javascript\"]\n",
    "user_text_x = vectorizer.transform(user_input)\n",
    "pred_result = model_saved.predict(user_text_x)\n",
    "pred_result = pred_result.toarray() \n",
    "pred_result= pred_result.tolist()\n",
    "pred_result = pred_result[0]\n",
    "print(pred_result[0])"
   ]
  },
  {
   "cell_type": "code",
   "execution_count": 36,
   "metadata": {},
   "outputs": [],
   "source": [
    "def vect_to_lable(v):\n",
    "  l = []\n",
    "  for i in range(len(v)):\n",
    "    if v[i] == 1:\n",
    "      l.append(y_list[i])\n",
    "  return l"
   ]
  },
  {
   "cell_type": "code",
   "execution_count": 37,
   "metadata": {},
   "outputs": [
    {
     "name": "stdout",
     "output_type": "stream",
     "text": [
      "['javascript']\n"
     ]
    }
   ],
   "source": [
    "print(vect_to_lable(pred_result))"
   ]
  }
 ],
 "metadata": {
  "kernelspec": {
   "display_name": "Python 3",
   "language": "python",
   "name": "python3"
  },
  "language_info": {
   "codemirror_mode": {
    "name": "ipython",
    "version": 3
   },
   "file_extension": ".py",
   "mimetype": "text/x-python",
   "name": "python",
   "nbconvert_exporter": "python",
   "pygments_lexer": "ipython3",
   "version": "3.7.6"
  }
 },
 "nbformat": 4,
 "nbformat_minor": 4
}
